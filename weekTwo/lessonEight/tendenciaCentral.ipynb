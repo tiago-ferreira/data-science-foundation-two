{
 "cells": [
  {
   "cell_type": "markdown",
   "metadata": {},
   "source": [
    "# Tendência Central\n",
    "\n",
    "## Moda\n",
    "\n",
    "O intervalo que ocorre com maior frequência.\n",
    "\n",
    "Quando temos uma distribuição uniforme não temos a moda.\n",
    "\n",
    "Há distribuições que possuem varias modas.\n",
    "\n",
    "ex. quando fazemos um grafico de tamanho de calçados, varias pessoas usam o tamahno 7 e outras tamanho 9. Isso é o que chamamos de distribuição bimodular.\n",
    "\n",
    "### Verdadeiro sobre moda\n",
    "\n",
    "- A moda pode ser usada para descrever qualquer tipo de dado.\n",
    "- A moda não é influenciada por outliers\n",
    "\n",
    "### Falso sobre moda\n",
    "\n",
    "- Todos os resultados do conjunto de dados afetam a moda.\n",
    "- Se pegarmos várias amostras da mesma população, a moda será a mesma em todas as amostras.\n",
    "- Há uma equação para a moda.\n",
    "\n",
    "Quais das afirmações abaixo se aplica à moda?\n",
    "\n",
    "- Não é afetada severamente por valores aberrantes\n",
    "- Fácil de encontrar em um histograma\n",
    "\n",
    "## Média\n",
    "\n",
    "É a soma dos valores de uma amostra, divididos pela quantidade de amostras.\n",
    "\n",
    "A média é influenciada por outliers\n",
    "\n",
    "Quais são as propriedades da média?\n",
    "\n",
    "- Todos os resultados na distribuição afetam a média.\n",
    "- A média pode ser descrita por uma fórmula.\n",
    "- Muitas amostras da mesma população terão médias similares.\n",
    "- A média de uma amostra pode ser usada para fazer inferências sobre a população de origem dos dados.\n",
    "- A média mudará se adicionarmos um valor extremo ao conjunto de dados.\n",
    "\n",
    "Quais das afirmações abaixo se aplicam à media?\n",
    "\n",
    "- Tem uma equação simples\n",
    "- Sempre mudará, se qualquer valor de dado mudar\n",
    "- Não é afetada ao mudar o tamanho da amostra\n",
    "\n",
    "## Mediana\n",
    "\n",
    "É o número que está metade das distribuição de dados. Quando temos uma distribuição com uma quantidade par de caracteres, fazemos a entre os dois números que estão no centro\n",
    "\n",
    "Formula da mediana com n par\n",
    "\n",
    "- (x (n/2) + x (n/2) + 1 )/ 2\n",
    "\n",
    "Formula da mediana com n impar\n",
    "- x(n+1) / 2\n",
    "\n",
    "Quais das abaixo se aplica à mediana?\n",
    "\n",
    "- Não é afetada ao mudar o tamanho da amostra\n",
    "- Não é afetada severamente por valores aberrantes"
   ]
  },
  {
   "cell_type": "code",
   "execution_count": 6,
   "metadata": {
    "scrolled": true
   },
   "outputs": [
    {
     "name": "stdout",
     "output_type": "stream",
     "text": [
      "72.8571428571\n",
      "0    72\n",
      "dtype: int64\n",
      "72.5\n"
     ]
    }
   ],
   "source": [
    "import pandas as pd\n",
    "\n",
    "print pd.Series([73,75,70,72,71,72,72,72,75,71,74,71,74,69,71,73,76,76,75,72,75,74,74,70,75,72,72,74]).mean()\n",
    "print pd.Series([73,75,70,72,71,72,72,72,75,71,74,71,74,69,71,73,76,76,75,72,75,74,74,70,75,72,72,74]).mode()\n",
    "print pd.Series([73,75,70,72,71,72,72,72,75,71,74,71,74,69,71,73,76,76,75,72,75,74,74,70,75,72,72,74]).median()\n",
    "\n"
   ]
  },
  {
   "cell_type": "code",
   "execution_count": 7,
   "metadata": {},
   "outputs": [
    {
     "name": "stdout",
     "output_type": "stream",
     "text": [
      "73.8333333333\n",
      "0    74\n",
      "dtype: int64\n",
      "74.0\n"
     ]
    }
   ],
   "source": [
    "\n",
    "\n",
    "print pd.Series([73,74,73,73,74,71,77,74,74,77,71,73,76,72,71,74,77,74,75,75,74,73,73,74]).mean()\n",
    "print pd.Series([73,74,73,73,74,71,77,74,74,77,71,73,76,72,71,74,77,74,75,75,74,73,73,74]).mode()\n",
    "print pd.Series([73,74,73,73,74,71,77,74,74,77,71,73,76,72,71,74,77,74,75,75,74,73,73,74]).median()"
   ]
  }
 ],
 "metadata": {
  "kernelspec": {
   "display_name": "Python 2",
   "language": "python",
   "name": "python2"
  },
  "language_info": {
   "codemirror_mode": {
    "name": "ipython",
    "version": 2
   },
   "file_extension": ".py",
   "mimetype": "text/x-python",
   "name": "python",
   "nbconvert_exporter": "python",
   "pygments_lexer": "ipython2",
   "version": "2.7.14"
  }
 },
 "nbformat": 4,
 "nbformat_minor": 2
}
