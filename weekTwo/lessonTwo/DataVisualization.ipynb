{
 "cells": [
  {
   "cell_type": "markdown",
   "metadata": {},
   "source": [
    "### Frequência relativa\n",
    "\n",
    "Uma das maneira de representar seria por meio de proporção\n",
    "\n",
    "\\begin{equation}\n",
    "    frequenciaRelativa =  frequencia  /  n \n",
    "\\end{equation}\n",
    "\n",
    "Outra maneira de representar é por meio de porcentagem\n",
    "\n",
    "\\begin{equation}\n",
    "    frequenciaRelativa =  (frequencia  /  n) * 100\n",
    "\\end{equation}\n",
    "\n",
    "### Histograma\n",
    "\n",
    "Quando vamos representar a frequência em um histograma o eixo X representa a variavel e o eixo Y representa a frequência.\n",
    "\n",
    "A variavel que representa o eixo X, é uma variavel independente que também pode ser chamada de preditora.\n",
    "\n",
    "A variavel dependente que fica no eixo Y também é chamada de resultado\n",
    "\n",
    "### Proporção\n",
    "\n",
    "A partir de uma condição coloca-se a quantidade em relação ao todo, em porcentagem.\n",
    "\n",
    "100 pessoas\n",
    "\n",
    "Condição pessoas acima de 60\n",
    "\n",
    "15 pessoas tem mais de 60 anos\n",
    "\n",
    "então a proporção é 15 / 100 = 0,15\n",
    "\n",
    "A medida da proporção mede-se até 1\n",
    "Porcentage 100\n"
   ]
  },
  {
   "cell_type": "code",
   "execution_count": null,
   "metadata": {},
   "outputs": [],
   "source": []
  }
 ],
 "metadata": {
  "kernelspec": {
   "display_name": "Python 2",
   "language": "python",
   "name": "python2"
  },
  "language_info": {
   "codemirror_mode": {
    "name": "ipython",
    "version": 2
   },
   "file_extension": ".py",
   "mimetype": "text/x-python",
   "name": "python",
   "nbconvert_exporter": "python",
   "pygments_lexer": "ipython2",
   "version": "2.7.14"
  }
 },
 "nbformat": 4,
 "nbformat_minor": 2
}
