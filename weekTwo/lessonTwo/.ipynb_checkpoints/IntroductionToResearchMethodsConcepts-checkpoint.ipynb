{
 "cells": [
  {
   "cell_type": "markdown",
   "metadata": {},
   "source": [
    "### População\n",
    "\n",
    "Quando nos referimos a quantidade total do alvo que definimos\n",
    "\n",
    "### Amostra\n",
    "\n",
    "Quando nos referimos a uma quantidade menor a população\n",
    "\n",
    "### Estatistica\n",
    "\n",
    "Sao os informações retiradas dos dados da amostra\n",
    "\n",
    "### Parametro\n",
    "\n",
    "É o número que descreve a população\n",
    "\n",
    "### Erro de Amostragem\n",
    "\n",
    "É a diferença entre a média da amostra com a população\n",
    "\n",
    "### Hipotese\n",
    "\n",
    "É uma possibilidade de que possa ser ou não uma verdade\n",
    "\n",
    "### Na maior parte dos estudos esperamos que:\n",
    "    \n",
    "- Dados dos indivíduos de uma amostra são utilizados para aprender sobre a população\n",
    "- Esperamos que nossos melhores palpites (estimativas) dos parâmetros da população difiram dos valores atuais\n",
    "- Esperamos que nossa amostra estatística não seja exatamente igual ao parâmetro da população que estamos estimando\n",
    "\n",
    "Muitas vezes, é muito caro coletar dados sobre toda uma população, então, tentamos aprender sobre a população usando uma amostra. Fazemos isso por meio de parâmetros de população estimados, usando estatísticas de amostra. No entanto, não podemos esperar que nossas estimativas sejam exatamente precisas quando fazemos isso.\n",
    "\n",
    "\n",
    "### Variáveis estranhas (ou à espreita)\n",
    "\n",
    "- Fornece possíveis explicações alternativas para relacionamentos observados entre variáveis\n",
    "- Fatores de área que podem influenciar essas relações que medimos entre duas ou mais variáveis\n",
    "- Deve ser controlado em um experimento antes que possamos fazer afirmações causais confiantes\n",
    "- Torna difícil fazer declarações causais a partir de dados de estudos observacionais\n",
    "\n",
    "### Amostra Aleatoria\n",
    "\n",
    "Uma amostra aleatória é aquela em que você seleciona:\n",
    "\n",
    "- Individuos de forma que qualquer pessoa tenha a mesma chance de ser selecionado\n",
    "- Individuos de uma forma que a seleção de um não afete a chance de qualquer outra pessoa ser selecionada"
   ]
  }
 ],
 "metadata": {
  "kernelspec": {
   "display_name": "Python 2",
   "language": "python",
   "name": "python2"
  },
  "language_info": {
   "codemirror_mode": {
    "name": "ipython",
    "version": 2
   },
   "file_extension": ".py",
   "mimetype": "text/x-python",
   "name": "python",
   "nbconvert_exporter": "python",
   "pygments_lexer": "ipython2",
   "version": "2.7.14"
  }
 },
 "nbformat": 4,
 "nbformat_minor": 2
}
