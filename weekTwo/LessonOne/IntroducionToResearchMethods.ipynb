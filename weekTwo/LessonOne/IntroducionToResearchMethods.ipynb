{
 "cells": [
  {
   "cell_type": "markdown",
   "metadata": {},
   "source": [
    "# Introdução aos métodos de pesquisa\n",
    "\n",
    "Ao conduzir uma pesquisa devemos nos atentar a 3 coisas importantes\n",
    "- Quantas pessoas foram entrevistadas\n",
    "- Quem foram as pessoas entrevistadas\n",
    "- Como a pesquisa foi conduzida"
   ]
  },
  {
   "cell_type": "markdown",
   "metadata": {},
   "source": [
    "# Conceitos (Constructs)\n",
    "\n",
    "Para se medir um conceito é preciso ter uma definição operacional, um exemplo seria.\n",
    "\n",
    "Conceito -> Felicidade\n",
    "\n",
    "Como medir a felicidade?\n",
    "\n",
    "Uma definição operacional para medir a felicidade seria.\n",
    "\n",
    "Percentual de minutos gastos sorrindo em comparação aos minutos gastos sem sorrir.\n"
   ]
  },
  {
   "cell_type": "markdown",
   "metadata": {},
   "source": [
    "# Dados\n",
    "\n",
    "Os dados são a parte mais importante de uma pesquisa. \n",
    "A partir deles podemos chegar a certas conclusões sobre o que medido.\n",
    "A diversos fatores que influenciam os resultados.\n",
    "\n",
    "**Quanto mais constantes os fatores são mantidos, mais confiavel é o teste**\n",
    "\n",
    "ex.\n",
    "\n",
    "O que mais poderia ter influenciado a memória?\n",
    "\n",
    "Abaixo estão os fatores\n",
    "\n",
    "- Hora do dia que você fez o teste\n",
    "- Número de palmeiras no Havai\n",
    "- Seu nível de estresse\n",
    "- Preço do leite\n",
    "- Intervalo de 5 minutos\n",
    "- Massa de plutão\n",
    "- Sua idade\n",
    "- Não prestar atenção\n",
    "\n",
    "Se todos que fizeram o teste de memória fizeram na mesma hora do dia, isso deixaria o teste mais confiavel.\n"
   ]
  },
  {
   "cell_type": "markdown",
   "metadata": {},
   "source": [
    "# Média da Amostra\n",
    "\n",
    "Quanto maior abrangente for a média da amostra, mais ela chega perto da média da população. \n",
    "um exemplo seria uma eleição onde quanto mais pessoas forem entrevistadas, mais perto vai chegar do resultado de quando as eleições forem feitas\n"
   ]
  },
  {
   "cell_type": "markdown",
   "metadata": {},
   "source": [
    "# Correlação\n",
    "\n",
    "Ao analisarmos uma correlação entre 2 variaveis, mesmo que haja uma tendência entre as variaveis, **correlação não prova a causa**. Sempre pode haver variaveis ocultas ou fatores externos que não foram analisados."
   ]
  },
  {
   "cell_type": "markdown",
   "metadata": {},
   "source": [
    "# Beneficios das pesquisas\n",
    "\n",
    "Quais são os benefícios de se utilizar enquetes para conduzir pesquisas?\n",
    "\n",
    "- Maneira fácil de conhecer a população\n",
    "- Relativamente barato\n",
    "- Conduzido remotamente\n",
    "- Qualquer um pode acessar e analisar o resultado"
   ]
  },
  {
   "cell_type": "markdown",
   "metadata": {},
   "source": [
    "# Desvantagens das pesquisas\n",
    "\n",
    "- Respostas mentirosas\n",
    "- Respostas influênciadas\n",
    "- O não entendimento das perguntas\n",
    "- Recusa de resposta\n",
    "\n",
    "Por isso é sempre importante ao se fazer uma pesquisa que as respostas sejam claras e bem objetivas\n"
   ]
  },
  {
   "cell_type": "markdown",
   "metadata": {},
   "source": [
    "# Placebo\n",
    "\n",
    "Qual é o objetivo da pílula inativa?\n",
    "\n",
    "- Ter um grupo de comparação com aqueles que tomaram a pílula ativa\n",
    "\n",
    "Por que os participantes não sabem qual pílula eles receberam?\n",
    "\n",
    "- Para fazer todos acreditarem que estão recebendo medicamento\n",
    "\n",
    "Pesquisadores só 'enganam' quando suspeitam de que saber o real objetivo do estudo influenciará o resultado dos participantes. Por isso escondem até o final dos estudos. Isso é o que eles chamam de cegueira.\n",
    "\n",
    "**Simples-cegueira** -> quando só os participantes não sabem\n",
    "\n",
    "**dupla-cegueira** -> quando os participantes e os pesquisadores não sabem quem recebeu o placebo, para que a resposta não seja influênciada na analise."
   ]
  }
 ],
 "metadata": {
  "kernelspec": {
   "display_name": "Python 2",
   "language": "python",
   "name": "python2"
  },
  "language_info": {
   "codemirror_mode": {
    "name": "ipython",
    "version": 2
   },
   "file_extension": ".py",
   "mimetype": "text/x-python",
   "name": "python",
   "nbconvert_exporter": "python",
   "pygments_lexer": "ipython2",
   "version": "2.7.14"
  }
 },
 "nbformat": 4,
 "nbformat_minor": 2
}
