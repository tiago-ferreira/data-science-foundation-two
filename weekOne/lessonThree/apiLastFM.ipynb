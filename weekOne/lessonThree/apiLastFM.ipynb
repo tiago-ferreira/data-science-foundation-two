{
 "cells": [
  {
   "cell_type": "code",
   "execution_count": 8,
   "metadata": {},
   "outputs": [],
   "source": [
    "import json\n",
    "import requests\n",
    "\n",
    "def api_get_request(url):\n",
    "    # In this exercise, you want to call the last.fm API to get a list of the\n",
    "    # top artists in Spain. The grader will supply the URL as an argument to\n",
    "    # the function; you do not need to construct the address or call this\n",
    "    # function in your grader submission.\n",
    "    # \n",
    "    # Once you've done this, return the name of the number 1 top artist in\n",
    "    # Spain. \n",
    "    url = 'http://ws.audioscrobbler.com/2.0/?method=tag.gettopartists&tag=disco&country=spain&api_key=f4478be573ca740c6a5cec7ddf2753a8&format=json'\n",
    "    data = requests.get(url).text\n",
    "    data = json.loads(data)\n",
    "    return  data['topartists']['artist'][0]['name'] # return the top artist in Spain"
   ]
  },
  {
   "cell_type": "code",
   "execution_count": 2,
   "metadata": {},
   "outputs": [
    {
     "name": "stdout",
     "output_type": "stream",
     "text": [
      "Bee Gees\n"
     ]
    }
   ],
   "source": [
    "import json\n",
    "import requests\n",
    "url = 'http://ws.audioscrobbler.com/2.0/?method=tag.gettopartists&tag=disco&api_key=f4478be573ca740c6a5cec7ddf2753a8&format=json'\n",
    "data = requests.get(url).text\n",
    "data = json.loads(data)\n",
    "\n",
    "print data['topartists']['artist'][0]['name']"
   ]
  },
  {
   "cell_type": "code",
   "execution_count": 9,
   "metadata": {},
   "outputs": [
    {
     "name": "stdout",
     "output_type": "stream",
     "text": [
      "Bee Gees\n"
     ]
    }
   ],
   "source": [
    "print api_get_request('boi')"
   ]
  }
 ],
 "metadata": {
  "kernelspec": {
   "display_name": "Python 2",
   "language": "python",
   "name": "python2"
  },
  "language_info": {
   "codemirror_mode": {
    "name": "ipython",
    "version": 2
   },
   "file_extension": ".py",
   "mimetype": "text/x-python",
   "name": "python",
   "nbconvert_exporter": "python",
   "pygments_lexer": "ipython2",
   "version": "2.7.14"
  }
 },
 "nbformat": 4,
 "nbformat_minor": 2
}
