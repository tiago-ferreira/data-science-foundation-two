{
 "cells": [
  {
   "cell_type": "code",
   "execution_count": 46,
   "metadata": {},
   "outputs": [],
   "source": [
    "import pandas as pd\n",
    "\n",
    "def add_full_name(path_to_csv, path_to_new_csv):\n",
    "    #Assume you will be reading in a csv file with the same columns that the\n",
    "    #Lahman baseball data set has -- most importantly, there are columns\n",
    "    #called 'nameFirst' and 'nameLast'.\n",
    "    #1) Write a function that reads a csv\n",
    "    #located at \"path_to_csv\" into a pandas dataframe and adds a new column\n",
    "    #called 'nameFull' with a player's full name.\n",
    "    #\n",
    "    #For example:\n",
    "    #   for Hank Aaron, nameFull would be 'Hank Aaron', \n",
    "\t#\n",
    "\t#2) Write the data in the pandas dataFrame to a new csv file located at\n",
    "\t#path_to_new_csv\n",
    "\n",
    "    df = pd.read_csv(path_to_csv)\n",
    "    df['nameFull'] = df['nameFirst'] + ' ' + df['nameLast']\n",
    "    df.to_csv(path_to_new_csv)"
   ]
  },
  {
   "cell_type": "code",
   "execution_count": 47,
   "metadata": {},
   "outputs": [],
   "source": [
    "if __name__ == \"__main__\":\n",
    "    # For local use only\n",
    "    # If you are running this on your own machine add the path to the\n",
    "    # Lahman baseball csv and a path for the new csv.\n",
    "    # The dataset can be downloaded from this website: http://www.seanlahman.com/baseball-archive/statistics\n",
    "    # We are using the file Master.csv\n",
    "    path_to_csv = \"Master.csv\"\n",
    "    path_to_new_csv = \"NewMaster.csv\"\n",
    "    add_full_name(path_to_csv, path_to_new_csv)"
   ]
  },
  {
   "cell_type": "code",
   "execution_count": 48,
   "metadata": {},
   "outputs": [
    {
     "name": "stdout",
     "output_type": "stream",
     "text": [
      "0             David Aardsma\n",
      "1                Hank Aaron\n",
      "2              Tommie Aaron\n",
      "3                  Don Aase\n",
      "4                 Andy Abad\n",
      "5             Fernando Abad\n",
      "6               John Abadie\n",
      "7            Ed Abbaticchio\n",
      "8                Bert Abbey\n",
      "9             Charlie Abbey\n",
      "10               Dan Abbott\n",
      "11              Fred Abbott\n",
      "12             Glenn Abbott\n",
      "13              Jeff Abbott\n",
      "14               Jim Abbott\n",
      "15              Kurt Abbott\n",
      "16              Kyle Abbott\n",
      "17               Ody Abbott\n",
      "18              Paul Abbott\n",
      "19                  Al Aber\n",
      "20        Frank Abercrombie\n",
      "21       Reggie Abercrombie\n",
      "22          Bill Abernathie\n",
      "23          Brent Abernathy\n",
      "24            Ted Abernathy\n",
      "25            Ted Abernathy\n",
      "26          Woody Abernathy\n",
      "27            Cliff Aberson\n",
      "28              Harry Ables\n",
      "29              Shawn Abner\n",
      "                ...        \n",
      "18816     Jordan Zimmermann\n",
      "18817         Roy Zimmerman\n",
      "18818        Ryan Zimmerman\n",
      "18819          Charlie Zink\n",
      "18820           Walter Zink\n",
      "18821            Frank Zinn\n",
      "18822              Guy Zinn\n",
      "18823            Jimmy Zinn\n",
      "18824           Bill Zinser\n",
      "18825           Alan Zinter\n",
      "18826            Bud Zipfel\n",
      "18827           Richie Zisk\n",
      "18828            Barry Zito\n",
      "18829        Billy Zitzmann\n",
      "18830              Ed Zmich\n",
      "18831           Ben Zobrist\n",
      "18832      Peter Zoccolillo\n",
      "18833            Sam Zoldak\n",
      "18834           Eddie Zosky\n",
      "18835            Bill Zuber\n",
      "18836             Jon Zuber\n",
      "18837          Julio Zuleta\n",
      "18838           Joel Zumaya\n",
      "18839           Mike Zunino\n",
      "18840            Bob Zupcic\n",
      "18841            Frank Zupo\n",
      "18842          Paul Zuvella\n",
      "18843       George Zuverink\n",
      "18844        Dutch Zwilling\n",
      "18845             Tony Zych\n",
      "Name: nameFull, Length: 18846, dtype: object\n"
     ]
    }
   ],
   "source": [
    "new_df = pd.read_csv(path_to_new_csv)\n",
    "print(new_df['nameFull'])"
   ]
  }
 ],
 "metadata": {
  "kernelspec": {
   "display_name": "Python 2",
   "language": "python",
   "name": "python2"
  },
  "language_info": {
   "codemirror_mode": {
    "name": "ipython",
    "version": 2
   },
   "file_extension": ".py",
   "mimetype": "text/x-python",
   "name": "python",
   "nbconvert_exporter": "python",
   "pygments_lexer": "ipython2",
   "version": "2.7.14"
  }
 },
 "nbformat": 4,
 "nbformat_minor": 2
}
