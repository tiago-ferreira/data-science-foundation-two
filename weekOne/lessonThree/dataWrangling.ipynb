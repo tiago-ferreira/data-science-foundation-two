{
 "cells": [
  {
   "cell_type": "markdown",
   "metadata": {},
   "source": [
    "Ao juntar os dados, antes de fazer uma analise e preciso primeiramente limpa-los afim de se obter uma precisao maior para a analise. Um caso tipico que acontece bastante e a ausencia de valores para alguns dados. Quando falamos de ausencia de valores podemos tomar algumas medidas afim de se evitar que a nossa analise nao seja coerente devido a falta de informacoes. Com isso podemos usar uma tecnica de exclusao."
   ]
  },
  {
   "cell_type": "markdown",
   "metadata": {},
   "source": [
    "## Exclusao Litwise\n",
    "\n",
    "Suponhamos que nos dados de jogadores de baisebol um jogador nao possui a data de falecimento, pois o jogador ainda esta vivo, e precisamos apenas calcular a media de altura, no modo de exclusao litwse esse jogador seria excluido independente de ter a informacao relevante para a analise"
   ]
  },
  {
   "cell_type": "markdown",
   "metadata": {},
   "source": [
    "## Exclusao Pairwise\n",
    "\n",
    "Nesse tipo de exclusao, caso o jogador nao tenha a data de falecimento e tenha a altura, ao calcular a altura o jogador nao sera excluido da analise, porem se fosse utlizar para uma analise do tipo expectativa de vida o jogador nao seria incluido pois o mesmo nao contem uma informacao relevante para a analise"
   ]
  }
 ],
 "metadata": {
  "kernelspec": {
   "display_name": "Python 2",
   "language": "python",
   "name": "python2"
  },
  "language_info": {
   "codemirror_mode": {
    "name": "ipython",
    "version": 2
   },
   "file_extension": ".py",
   "mimetype": "text/x-python",
   "name": "python",
   "nbconvert_exporter": "python",
   "pygments_lexer": "ipython2",
   "version": "2.7.14"
  }
 },
 "nbformat": 4,
 "nbformat_minor": 2
}
