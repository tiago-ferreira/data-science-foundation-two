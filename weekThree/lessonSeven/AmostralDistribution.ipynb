{
 "cells": [
  {
   "cell_type": "markdown",
   "metadata": {},
   "source": [
    "## Distribuicao amostral\n",
    "\n",
    "O desvio padrao de uma distribuicao amostral e chamado de SE (stantard error)\n",
    "\n",
    "\n",
    "\n",
    "O teorema do limite central nos dá quais das seguintes informações sobre o significado das distribuições de amostragem?\n",
    "\n",
    "- A forma prevista da distribuição\n",
    "- O valor esperado da média da distribuição\n",
    "- O desvio padrão da distribuição (erro padrão)\n",
    "\n",
    "\n",
    " Descreveremos a localização da média amostral calculando quantos erros padrão estão longe do centro da distribuição amostral. Isso nos dará um valor-z para a média amostral.\n",
    "\n"
   ]
  }
 ],
 "metadata": {
  "kernelspec": {
   "display_name": "Python 2",
   "language": "python",
   "name": "python2"
  },
  "language_info": {
   "codemirror_mode": {
    "name": "ipython",
    "version": 2
   },
   "file_extension": ".py",
   "mimetype": "text/x-python",
   "name": "python",
   "nbconvert_exporter": "python",
   "pygments_lexer": "ipython2",
   "version": "2.7.14"
  }
 },
 "nbformat": 4,
 "nbformat_minor": 2
}
