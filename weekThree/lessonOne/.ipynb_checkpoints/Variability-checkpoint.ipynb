{
 "cells": [
  {
   "cell_type": "markdown",
   "metadata": {},
   "source": [
    "# Variabilidade\n",
    "\n",
    "## Dispersão / Variação\n",
    "\n",
    "A variação pode ser calculada subtraindo o valor maximo da variavel do eixo X com o valor minimo do eixo X\n",
    "\n",
    "Ex: \n",
    "- Maior salario 78,600\n",
    "- Menor salario 21,180\n",
    "- A variacao é 57,420\n",
    "\n",
    "## Quartil\n",
    "\n",
    "E quando pegamos a variação e dividimos ela por 4\n",
    "\n",
    "ex.\n",
    "1\n",
    "2 - q1\n",
    "3 \n",
    "4 - q2\n",
    "5\n",
    "6 - q3\n",
    "7\n",
    "8 - q4\n",
    "\n",
    "## IQR Interquartil Range\n",
    "\n",
    "E a variação entre o range dos quartis, usando os dados acima, o primeiro e o ultimo quartil são cortados ficando somente o 2 e o 3.\n",
    "\n",
    "o IQR seria 3, pois o segundo quartil começa em 3 e o terceiro quartil termina em 6, então 6 - 3 = 3\n",
    "\n",
    "## Outlier\n",
    "\n",
    "Para definir se um número é ou não um outlier tem uma formula padrão que podemos usar.\n",
    "\n",
    "- outlier < q1 - 1,5 * IQR\n",
    "- outlier > q3 + 1,5 * IQR\n",
    "\n",
    "Calculando Outliers\n",
    "\n",
    "Q1 = 49191\n",
    "Q3 = 54135\n",
    "IQR = 4944"
   ]
  },
  {
   "cell_type": "code",
   "execution_count": 4,
   "metadata": {},
   "outputs": [
    {
     "data": {
      "text/plain": [
       "41775.0"
      ]
     },
     "execution_count": 4,
     "metadata": {},
     "output_type": "execute_result"
    }
   ],
   "source": [
    "49191 - (1.5 * 4944)"
   ]
  },
  {
   "cell_type": "code",
   "execution_count": 6,
   "metadata": {},
   "outputs": [
    {
     "data": {
      "text/plain": [
       "61551.0"
      ]
     },
     "execution_count": 6,
     "metadata": {},
     "output_type": "execute_result"
    }
   ],
   "source": [
    "54135 + (1.5 * 4944)"
   ]
  },
  {
   "cell_type": "markdown",
   "metadata": {},
   "source": [
    "Com isso temos que números abaixo de 41775 e números acima de 61551 serão considerados outliers pelas amostra.\n",
    "\n",
    "\n",
    "## Desvio da média\n",
    "\n",
    "Para calcular o desvio da média usamos (xi - média)\n",
    "\n",
    "Depois para calcularmos o desvio médio precisamos retirar os números negativos para que eles não se anulem com os valores positivos em relação a média\n",
    "\n",
    "A duas maneiras de retirarmos esses números negativos\n",
    "\n",
    "- Ignorando o sinal negativo\n",
    "- Elevando ao quadrado os números\n",
    "\n",
    "\n",
    "## Variancia\n",
    "\n",
    "Como podemos definir o conceito de variância:\n",
    "\n",
    "- Média dos quadrados dos desvios\n",
    "- Soma dos quadrados dos desvios dividida por n\n",
    "\n",
    "## Desvio Padrão\n",
    "\n",
    "De que maneira poderíamos definir o desvio padrão?\n",
    "\n",
    "- Raiz quadrada da média do quadrado do desvio\n",
    "- Raiz quadrada da soma do quadrado do desvio, dividida por n\n",
    "\n",
    "Quando vou calcular o desvio padrão de uma população uso a media da soma dos quadrados dos desvios\n",
    "Quando vou calcular o desvio padrão de uma amostra, uso a correção de bessel na formula.\n",
    "\n",
    "\n",
    "Passos para calcular o desvio padrão\n",
    "\n",
    "1. Média dos valores da amostra\n",
    "2. Desvio da média (xi - média)\n",
    "3. Quadrado do desvio da média\n",
    "4. Média do quadrado do desvio\n",
    "5. Raiz quadrada da média do quadrado do desvio\n",
    "\n",
    "Em uma distribuição normal a média, mediana e moda são iguais\n",
    "\n",
    "Quando temos uma distribuição normal, 68% dos dados ficam entre a média e 1 desvio padrão, e 95% dos dados ficam entre a média e 2 desvis padrões.\n",
    "\n"
   ]
  },
  {
   "cell_type": "code",
   "execution_count": 15,
   "metadata": {},
   "outputs": [
    {
     "data": {
      "text/plain": [
       "13543.559999999998"
      ]
     },
     "execution_count": 15,
     "metadata": {},
     "output_type": "execute_result"
    }
   ],
   "source": [
    "import numpy as np\n",
    "# np.array([33.219,36.254,38.801,46.335,46.840,47.596,55.130,56.863,78.070,88.830]).mean()\n",
    "\n",
    "# np.array([-19574.80,-16539.80,-13992.80,-6458.80,-5953.80,-5197.80,2336.20,4069.20,25276.20,36036.20]).mean()\n",
    "\n",
    "np.array([19574.80,16539.80,13992.80,6458.80,5953.80,5197.80,2336.20,4069.20,25276.20,36036.20]).mean()"
   ]
  },
  {
   "cell_type": "code",
   "execution_count": 6,
   "metadata": {},
   "outputs": [
    {
     "data": {
      "text/plain": [
       "57420"
      ]
     },
     "execution_count": 6,
     "metadata": {},
     "output_type": "execute_result"
    }
   ],
   "source": [
    "78600 - 21180"
   ]
  },
  {
   "cell_type": "code",
   "execution_count": 2,
   "metadata": {},
   "outputs": [
    {
     "data": {
      "text/plain": [
       "108670"
      ]
     },
     "execution_count": 2,
     "metadata": {},
     "output_type": "execute_result"
    }
   ],
   "source": [
    "116020 - 7350"
   ]
  },
  {
   "cell_type": "code",
   "execution_count": 1,
   "metadata": {
    "scrolled": true
   },
   "outputs": [
    {
     "data": {
      "text/plain": [
       "9978820"
      ]
     },
     "execution_count": 1,
     "metadata": {},
     "output_type": "execute_result"
    }
   ],
   "source": [
    "10000000 - 21180"
   ]
  },
  {
   "cell_type": "code",
   "execution_count": 3,
   "metadata": {},
   "outputs": [
    {
     "data": {
      "text/plain": [
       "4944"
      ]
     },
     "execution_count": 3,
     "metadata": {},
     "output_type": "execute_result"
    }
   ],
   "source": [
    "54135 - 49191"
   ]
  },
  {
   "cell_type": "code",
   "execution_count": 17,
   "metadata": {},
   "outputs": [
    {
     "data": {
      "text/plain": [
       "17076.965187058267"
      ]
     },
     "execution_count": 17,
     "metadata": {},
     "output_type": "execute_result"
    }
   ],
   "source": [
    "from math import sqrt\n",
    "sqrt(291622740)"
   ]
  }
 ],
 "metadata": {
  "kernelspec": {
   "display_name": "Python 2",
   "language": "python",
   "name": "python2"
  },
  "language_info": {
   "codemirror_mode": {
    "name": "ipython",
    "version": 2
   },
   "file_extension": ".py",
   "mimetype": "text/x-python",
   "name": "python",
   "nbconvert_exporter": "python",
   "pygments_lexer": "ipython2",
   "version": "2.7.14"
  }
 },
 "nbformat": 4,
 "nbformat_minor": 2
}
