{
 "cells": [
  {
   "cell_type": "markdown",
   "metadata": {},
   "source": [
    "## Big Data\n",
    "\n",
    "Uma boa definição para BigData seria, dados muitos numeros que nao podem ser processados por uma unica maquina.\n",
    "\n",
    "## Desafios do Big Data\n",
    "\n",
    "- Os dados sao criados muito rapidos\n",
    "- Vem de diferentes lugares com diferentes formatos\n",
    "\n",
    "## Os 3 V\n",
    "\n",
    "- Volume -> refere-se ao tamanho dos dados com quais esta se lidando\n",
    "- Variedade -> refere-se ao fato de os dados vierem de diferentes lugares e diferentes formatos\n",
    "- Velocidade -> refere-se a velocidade com que os dados são gerados\n",
    "\n",
    "\n"
   ]
  }
 ],
 "metadata": {
  "kernelspec": {
   "display_name": "Python 2",
   "language": "python",
   "name": "python2"
  },
  "language_info": {
   "codemirror_mode": {
    "name": "ipython",
    "version": 2
   },
   "file_extension": ".py",
   "mimetype": "text/x-python",
   "name": "python",
   "nbconvert_exporter": "python",
   "pygments_lexer": "ipython2",
   "version": "2.7.14"
  }
 },
 "nbformat": 4,
 "nbformat_minor": 2
}
